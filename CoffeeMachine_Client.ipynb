{
  "nbformat": 4,
  "nbformat_minor": 0,
  "metadata": {
    "colab": {
      "provenance": [],
      "authorship_tag": "ABX9TyM92kmlFg2F32TzonLXepnX",
      "include_colab_link": true
    },
    "kernelspec": {
      "name": "python3",
      "display_name": "Python 3"
    },
    "language_info": {
      "name": "python"
    }
  },
  "cells": [
    {
      "cell_type": "markdown",
      "metadata": {
        "id": "view-in-github",
        "colab_type": "text"
      },
      "source": [
        "<a href=\"https://colab.research.google.com/github/MWFK/DDSM/blob/main/CoffeeMachine_Client.ipynb\" target=\"_parent\"><img src=\"https://colab.research.google.com/assets/colab-badge.svg\" alt=\"Open In Colab\"/></a>"
      ]
    },
    {
      "cell_type": "code",
      "execution_count": 4,
      "metadata": {
        "id": "YSmSdLFWKuts"
      },
      "outputs": [],
      "source": [
        "import requests\n",
        "import json"
      ]
    },
    {
      "cell_type": "code",
      "source": [
        "def client_form():\n",
        "\n",
        "  input_dict = {}\n",
        "  print('################# Weight Legend ############################')\n",
        "  print('Neutral = 0; Important = 1; Highly Important = 3\\n')\n",
        "  print('Small = 0; Meduim = 1; Large = 3\\n')\n",
        "  print('Low = 0; Meduim = 1; High = 3\\n')\n",
        "  print('Budget Constraint = 0; Optimum = 1; No Budget Constraint = 3\\n')\n",
        "  print('############################################################')\n",
        "\n",
        "  print('\\n################# Design Principles ############################\\n')\n",
        "  \n",
        "  input_dict['q1'] = int(input('Time to market? '))\n",
        "  input_dict['q2'] = int(input('Cost consideration? '))\n",
        "  input_dict['q3'] = int(input('Quality level? '))\n",
        "  input_dict['q4'] = int(input('Process maturity? '))\n",
        "  input_dict['q5'] = int(input('Innovative delivery? '))\n",
        "  input_dict['q6'] = int(input('Rank the Sustainability? '))\n",
        "  input_dict['q7'] = int(input('Rank the Governance? '))\n",
        "\n",
        "  print('\\n################# Project Characteristics ############################\\n')\n",
        "  input_dict['q8']  = int(input('Team size? '))\n",
        "  input_dict['q9']  = int(input('Expected timeline? '))\n",
        "  input_dict['q10'] = int(input('CIA ratings? '))\n",
        "  input_dict['q11'] = int(input('Domain intensity? '))\n",
        "  input_dict['q12'] = int(input('Packaging level? '))\n",
        "  input_dict['q13'] = int(input('Legacy dominance? '))\n",
        "\n",
        "  print('\\n################# Sourcing Requirement ############################\\n')\n",
        "  input_dict['q14'] = int(input('Rank the complexity? '))\n",
        "  input_dict['q15'] = int(input('Ease of collaboration? '))\n",
        "  input_dict['q16'] = int(input('Cultural alignment? '))\n",
        "  input_dict['q17'] = int(input('Incumbent transition? '))\n",
        "\n",
        "  print('\\n################# Verification Questions ############################\\n')\n",
        "  input_dict['q18'] = input('Local core system or R&D project: [Yes, No] ')\n",
        "  input_dict['q19'] = input('Required language: [Dutch, English] ')\n",
        "  input_dict['q20'] = input('Documentation language: [Dutch, English] ')\n",
        "  input_dict['q21'] = input('Flexibility standards: [National, European, International] ')\n",
        "  input_dict['q22'] = input('Compliance and regulation standards : [National, European, International] ')\n",
        "  input_dict['q23'] = input('Technology type : [Legacy, New] ')\n",
        "  input_dict['q24'] = input('Technology category : [Data Science, Data Engineer, Fullstack...] ')\n",
        "\n",
        "  return input_dict"
      ],
      "metadata": {
        "id": "fu-b_-IQK-Ff"
      },
      "execution_count": 5,
      "outputs": []
    },
    {
      "cell_type": "code",
      "source": [
        "url = \"http://4395-34-135-222-221.ngrok.io\"\n",
        "response = requests.post(url,json=client_form())\n",
        "print(response.json())"
      ],
      "metadata": {
        "colab": {
          "base_uri": "https://localhost:8080/"
        },
        "id": "F0ITF3FwLG-t",
        "outputId": "966d0058-700a-4867-ce81-dd92cd2d99b3"
      },
      "execution_count": 9,
      "outputs": [
        {
          "output_type": "stream",
          "name": "stdout",
          "text": [
            "################# Weight Legend ############################\n",
            "Neutral = 0; Important = 1; Highly Important = 3\n",
            "\n",
            "Small = 0; Meduim = 1; Large = 3\n",
            "\n",
            "Low = 0; Meduim = 1; High = 3\n",
            "\n",
            "Budget Constraint = 0; Optimum = 1; No Budget Constraint = 3\n",
            "\n",
            "############################################################\n",
            "\n",
            "################# Design Principles ############################\n",
            "\n",
            "Time to market? 2\n",
            "Cost consideration? 2\n",
            "Quality level? 0\n",
            "Process maturity? 1\n",
            "Innovative delivery? 2\n",
            "Rank the Sustainability? 2\n",
            "Rank the Governance? 1\n",
            "\n",
            "################# Project Characteristics ############################\n",
            "\n",
            "Team size? 0\n",
            "Expected timeline? 0\n",
            "CIA ratings? 3\n",
            "Domain intensity? 1\n",
            "Packaging level? 1\n",
            "Legacy dominance? 1\n",
            "\n",
            "################# Sourcing Requirement ############################\n",
            "\n",
            "Rank the complexity? 0\n",
            "Ease of collaboration? 1\n",
            "Cultural alignment? 1\n",
            "Incumbent transition? 0\n",
            "\n",
            "################# Verification Questions ############################\n",
            "\n",
            "Local core system or R&D project: [Yes, No] 1\n",
            "Required language: [Dutch, English] 1\n",
            "Documentation language: [Dutch, English] 1\n",
            "Flexibility standards: [National, European, International] 1\n",
            "Compliance and regulation standards : [National, European, International] 1\n",
            "Technology type : [Legacy, New] 1\n",
            "Technology category : [Data Science, Data Engineer, Fullstack...] 1\n",
            "{'result': ['Greensight', ['Onshore', 'xxx']]}\n"
          ]
        }
      ]
    }
  ]
}