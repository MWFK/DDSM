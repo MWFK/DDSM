{
  "cells": [
    {
      "cell_type": "markdown",
      "metadata": {
        "id": "view-in-github",
        "colab_type": "text"
      },
      "source": [
        "<a href=\"https://colab.research.google.com/github/MWFK/DDSM/blob/main/CoffeeMachine_Server_V2.ipynb\" target=\"_parent\"><img src=\"https://colab.research.google.com/assets/colab-badge.svg\" alt=\"Open In Colab\"/></a>"
      ]
    },
    {
      "cell_type": "markdown",
      "metadata": {
        "id": "VhkUopni5S5B"
      },
      "source": [
        "# Libs"
      ]
    },
    {
      "cell_type": "code",
      "execution_count": 1,
      "metadata": {
        "colab": {
          "base_uri": "https://localhost:8080/"
        },
        "id": "w5oKf0U63MO5",
        "outputId": "6061f8e7-fbb1-47d4-9d11-cadb4f4c8002"
      },
      "outputs": [
        {
          "output_type": "stream",
          "name": "stdout",
          "text": [
            "Looking in indexes: https://pypi.org/simple, https://us-python.pkg.dev/colab-wheels/public/simple/\n",
            "Collecting flask_ngrok\n",
            "  Downloading flask_ngrok-0.0.25-py3-none-any.whl (3.1 kB)\n",
            "Requirement already satisfied: requests in /usr/local/lib/python3.7/dist-packages (from flask_ngrok) (2.23.0)\n",
            "Requirement already satisfied: Flask>=0.8 in /usr/local/lib/python3.7/dist-packages (from flask_ngrok) (1.1.4)\n",
            "Requirement already satisfied: itsdangerous<2.0,>=0.24 in /usr/local/lib/python3.7/dist-packages (from Flask>=0.8->flask_ngrok) (1.1.0)\n",
            "Requirement already satisfied: Werkzeug<2.0,>=0.15 in /usr/local/lib/python3.7/dist-packages (from Flask>=0.8->flask_ngrok) (1.0.1)\n",
            "Requirement already satisfied: click<8.0,>=5.1 in /usr/local/lib/python3.7/dist-packages (from Flask>=0.8->flask_ngrok) (7.1.2)\n",
            "Requirement already satisfied: Jinja2<3.0,>=2.10.1 in /usr/local/lib/python3.7/dist-packages (from Flask>=0.8->flask_ngrok) (2.11.3)\n",
            "Requirement already satisfied: MarkupSafe>=0.23 in /usr/local/lib/python3.7/dist-packages (from Jinja2<3.0,>=2.10.1->Flask>=0.8->flask_ngrok) (2.0.1)\n",
            "Requirement already satisfied: idna<3,>=2.5 in /usr/local/lib/python3.7/dist-packages (from requests->flask_ngrok) (2.10)\n",
            "Requirement already satisfied: chardet<4,>=3.0.2 in /usr/local/lib/python3.7/dist-packages (from requests->flask_ngrok) (3.0.4)\n",
            "Requirement already satisfied: certifi>=2017.4.17 in /usr/local/lib/python3.7/dist-packages (from requests->flask_ngrok) (2022.9.24)\n",
            "Requirement already satisfied: urllib3!=1.25.0,!=1.25.1,<1.26,>=1.21.1 in /usr/local/lib/python3.7/dist-packages (from requests->flask_ngrok) (1.24.3)\n",
            "Installing collected packages: flask-ngrok\n",
            "Successfully installed flask-ngrok-0.0.25\n"
          ]
        }
      ],
      "source": [
        "!pip install flask_ngrok"
      ]
    },
    {
      "cell_type": "code",
      "execution_count": 2,
      "metadata": {
        "id": "KtfH9txK5GrY"
      },
      "outputs": [],
      "source": [
        "import xlrd\n",
        "import json\n",
        "import pandas as pd\n",
        "from collections import Counter\n",
        "from flask import Flask\n",
        "from flask_ngrok import run_with_ngrok\n",
        "from flask import request"
      ]
    },
    {
      "cell_type": "markdown",
      "metadata": {
        "id": "dHlf8gFn5Vje"
      },
      "source": [
        "# Knowledge Bank\n",
        "Create the knowledge bank based on the weights determined by the practice managers."
      ]
    },
    {
      "cell_type": "code",
      "execution_count": 6,
      "metadata": {
        "id": "gl-D8eT45VBP"
      },
      "outputs": [],
      "source": [
        "def create_knowledge_bank():\n",
        "\n",
        "  features = ['Project type', 'Time to market', 'Cost Consideration', 'Quality', 'Process Maturity', 'Innovative delivery', \n",
        "              'Sustainability', 'Governance', 'Size', 'Project Timeline', 'CIA Ratings',\n",
        "            'Domain Intense', 'Packaged Solution', 'Legacy Dominance', 'Complexity', 'Ease of collaboration', 'Cultural Alignment', \n",
        "            'Incumbent Transition', 'Recommendation-1', 'Recommendation-2']\n",
        "            \n",
        "  l1  = ['Mainframes Modernization',                1,  2,  2,  1,  2,  0,  0,  2, \t2, \t0, \t0, \t0, \t2, \t2, \t1, \t0,  0, \t'Offshore' ,  'Nearshore' ]\n",
        "  l2  = ['Legacy Transformation', \t                0, \t2, \t2, \t0, \t2, \t0, \t0, \t2, \t2, \t0, \t0, \t0, \t2, \t2, \t0, \t0, \t0, \t'Onshore'  ,   'Offshore' ]\n",
        "  l3  = ['Mainframes Modernization : Transition', \t0, \t2, \t2, \t0, \t2, \t0, \t0, \t2, \t2, \t0, \t0, \t0, \t2, \t2, \t0, \t0, \t2, \t'Nearshore', 'Offshore'   ]\n",
        "  l4  = ['Compliance Project - GDPR, PSD2', \t      2, \t0,\t0, \t0, \t0, \t0, \t2, \t0, \t0, \t0, \t2, \t0, \t0, \t0, \t0, \t0, \t0, \t'Onshore'  , \t 'Offshore' ]\n",
        "  l5  = ['Cloud Migration', \t                      1, \t2, \t2, \t1, \t1, \t2, \t2, \t1, \t0, \t2, \t2, \t1, \t1, \t2, \t1, \t0, \t2, \t'Nearshore', 'Offshore'   ]\n",
        "  l6  = ['Payments Modernization', \t                0, \t0, \t0, \t0, \t0, \t0, \t0, \t0, \t0, \t0, \t2, \t0, \t0, \t0, \t0, \t0, \t0, \t'Onshore'  , \t 'Offshore' ]\n",
        "  l7  = ['Core Banking', \t                          0, \t0, \t0, \t0, \t0, \t0, \t0, \t0, \t0, \t0, \t2, \t2, \t0, \t0, \t0, \t0, \t0, \t'Onshore'  , \t 'Nearshore']\n",
        "  l8  = ['Cards Modernization', \t                  0, \t0, \t0, \t0, \t0, \t0, \t0, \t0, \t0, \t0, \t2, \t0, \t0, \t0, \t0, \t0, \t0, \t'Onshore'  , \t 'Offshore' ]\n",
        "  \n",
        "  l9  = ['DCBW - CB',                               2,  2,  2,  1,  2,  0,  2,  2,  2,  1,  1,  0,  1,  1,  2,  0,  1,  'Onshore 20% Offshore 80%', 'xxx']\n",
        "  l10 = ['CoDaC RiskDataModelling',                 2,  2,  2,  1,  2,  0,  2,  0,  2,  2,  1,  0,  1,  2,  2,  0,  0,  'Nearshore'               , 'xxx']\n",
        "  l11 = ['PB Digital',                              0,  2,  2,  1,  0,  0,  2,  0,  1,  2,  0,  0,  1,  1,  0,  0,  0,  'Nearshore'               , 'xxx']\n",
        "  l12 = ['Aurora Greenfield',                       2,  2,  2,  1,  2,  2,  2,  1,  2,  1,  2,  1,  1,  1,  2,  2,  0, 'Offshore 60%, Onsite 40%' , 'xxx']  \n",
        "  l13 = ['Lenny',                                   2,  0,  1,  0,  2,  1,  2,  0,  1,  1,  2,  2,  0,  0,  2,  2,  0, 'Onshore'                  , 'xxx']\n",
        "  l14 = ['Socializers',                             2,  0,  2,  2,  1,  0,  1,  0,  1,  3,  1,  1,  0,  0,  2,  2,  0, 'Onshore'                  , 'xxx']\n",
        "  l15 = ['Generic Client Onboarding',               2,  2,  2,  0,  1,  0,  2,  0,  2,  1,  1,  0,  0,  0,  1,  1,  1, 'Onsite 20% Offshore 80%'  , 'xxx']\n",
        "  l16 = ['Chatbot Azure Platform team',             2,  2,  2,  1,  1,  0,  1,  0,  1,  2,  1,  0,  0,  0,  1,  1,  0, 'Onsite 30%, Offshore 70%' , 'xxx']\n",
        "  l17 = ['Greensight',                              2,  2,  0,  1,  2,  2,  1,  0,  0,  3,  1,  1,  1,  0,  1,  1,  0, 'Onshore'                  , 'xxx']\n",
        "  l18 = ['IB Rebuild',                              2,  2,  2,  0,  0,  1,  1,  2,  2,  1,  1,  0,  0,  2,  1,  1,  1, 'Offshore'                 , 'xxx']\n",
        "\n",
        "  kb = pd.DataFrame(columns=features)\n",
        "\n",
        "  kb.loc[len(kb)] = l1\n",
        "  kb.loc[len(kb)] = l2\n",
        "  kb.loc[len(kb)] = l3\n",
        "  kb.loc[len(kb)] = l4\n",
        "  kb.loc[len(kb)] = l5\n",
        "  kb.loc[len(kb)] = l6\n",
        "  kb.loc[len(kb)] = l7\n",
        "  kb.loc[len(kb)] = l8\n",
        "\n",
        "  kb.loc[len(kb)] = l9\n",
        "  kb.loc[len(kb)] = l10\n",
        "  kb.loc[len(kb)] = l11\n",
        "  kb.loc[len(kb)] = l12\n",
        "  kb.loc[len(kb)] = l13\n",
        "  kb.loc[len(kb)] = l14\n",
        "  kb.loc[len(kb)] = l15\n",
        "  kb.loc[len(kb)] = l16\n",
        "  kb.loc[len(kb)] = l17\n",
        "  kb.loc[len(kb)] = l18\n",
        "\n",
        "\n",
        "  return kb"
      ]
    },
    {
      "cell_type": "code",
      "execution_count": null,
      "metadata": {
        "id": "DYeePkHd70-Y"
      },
      "outputs": [],
      "source": [
        "### Test ###\n",
        "# kb = create_knowledge_bank()\n",
        "# kb"
      ]
    },
    {
      "cell_type": "markdown",
      "metadata": {
        "id": "M7EipcMc6wWI"
      },
      "source": [
        "# Client Input\n",
        "Client needs to answer 24 questions, then it will be broke down into three steps to determine the right shore."
      ]
    },
    {
      "cell_type": "code",
      "execution_count": null,
      "metadata": {
        "id": "2qLBgNqI602l"
      },
      "outputs": [],
      "source": [
        "# def client_form():\n",
        "\n",
        "#   print('################# Weight Legend ############################')\n",
        "#   print('Neutral = 0; Important = 1; Highly Important = 3\\n')\n",
        "#   print('Small = 0; Meduim = 1; Large = 3\\n')\n",
        "#   print('Low = 0; Meduim = 1; High = 3\\n')\n",
        "#   print('Budget Constraint = 0; Optimum = 1; No Budget Constraint = 3\\n')\n",
        "#   print('############################################################')\n",
        "\n",
        "#   print('\\n################# Design Principles ############################\\n')\n",
        "#   q1 = int(input('What is time to market? '))\n",
        "#   q2 = int(input('What is cost consideration? '))\n",
        "#   q3 = int(input('What is the quality level? '))\n",
        "#   q4 = int(input('How do you rank the process maturity? '))\n",
        "#   q5 = int(input('How do you rank innovative delivery? '))\n",
        "#   q6 = int(input('How do you rank the sustainability? '))\n",
        "#   q7 = int(input('How do you rank governance? '))\n",
        "\n",
        "#   print('\\n################# Project Characteristics ############################\\n')\n",
        "#   q8 = int(input('What is the size of the team? '))\n",
        "#   q9 = int(input('What is the expected timeline? '))\n",
        "#   q10 = int(input('What is the CIA ratings? '))\n",
        "#   q11 = int(input('How do you rank domain intensity? '))\n",
        "#   q12 = int(input('How do you rank your packaged solution level? '))\n",
        "#   q13 = int(input('How do you rank the legacy dominance? '))\n",
        "\n",
        "#   print('\\n################# Sourcing Requirement ############################\\n')\n",
        "#   q14 = int(input('How do you rank the complexity? '))\n",
        "#   q15 = int(input('How do you rank the ease of collaboration? '))\n",
        "#   q16 = int(input('How do you rank cultural alignment? '))\n",
        "#   q17 = int(input('How do you rank incumbent transition? '))\n",
        "\n",
        "#   print('\\n################# Verification Questions ############################\\n')\n",
        "#   q18 = input('Is it a local core system project or a R&D: [Yes, No] ')\n",
        "#   q19 = input('Type the required language: [Dutch, English] ')\n",
        "#   q20 = input('Type the documentation language: [Dutch, English] ')\n",
        "#   q21 = input('Type your data requirement flexibility standards: [National, European, International] ')\n",
        "#   q22 = input('Type your compliance and regulation standards : [National, European, International] ')\n",
        "#   q23 = input('Type your technology type : [Legacy, New] ')\n",
        "#   q24 = input('Type your technology category : [Data Science, Data Engineer, Fullstack...] ')\n",
        "\n",
        "#   return [q1, q2, q3, q4, q5, q6, q7, q8, q9, q10, q11, q12, q13, q14, q15, q16, q17, q18, q19, q20, q21, q22, q23, q24]"
      ]
    },
    {
      "cell_type": "code",
      "execution_count": null,
      "metadata": {
        "id": "fjJp5kAS9QWf"
      },
      "outputs": [],
      "source": [
        "# ### Test ###\n",
        "# form = client_form()\n",
        "# form"
      ]
    },
    {
      "cell_type": "code",
      "execution_count": 7,
      "metadata": {
        "id": "rdQz_SBgm0yo"
      },
      "outputs": [],
      "source": [
        "def client_form(content):\n",
        "    List_of_answers = []\n",
        "    List_of_answers.append(int(content['q1']))\n",
        "    List_of_answers.append(int(content['q2']))\n",
        "    List_of_answers.append(int(content['q3']))\n",
        "    List_of_answers.append(int(content['q4']))\n",
        "    List_of_answers.append(int(content['q5']))\n",
        "    List_of_answers.append(int(content['q6']))\n",
        "    List_of_answers.append(int(content['q7']))\n",
        "    List_of_answers.append(int(content['q8']))\n",
        "    List_of_answers.append(int(content['q9']))\n",
        "    List_of_answers.append(int(content['q10']))\n",
        "    List_of_answers.append(int(content['q11']))\n",
        "    List_of_answers.append(int(content['q12']))\n",
        "    List_of_answers.append(int(content['q13']))\n",
        "    List_of_answers.append(int(content['q14']))\n",
        "    List_of_answers.append(int(content['q15']))\n",
        "    List_of_answers.append(int(content['q16']))\n",
        "    List_of_answers.append(int(content['q17']))\n",
        "    List_of_answers.append(content['q18'])\n",
        "    List_of_answers.append(content['q19'])\n",
        "    List_of_answers.append(content['q20'])\n",
        "    List_of_answers.append(content['q21'])\n",
        "    List_of_answers.append(content['q22'])\n",
        "    List_of_answers.append(content['q23'])\n",
        "    List_of_answers.append(content['q24'])\n",
        "    \n",
        "    return List_of_answers"
      ]
    },
    {
      "cell_type": "markdown",
      "metadata": {
        "id": "60zOJLal67MO"
      },
      "source": [
        "# Project Shore\n",
        "Determine the right shore using 17 features based on client answered questions."
      ]
    },
    {
      "cell_type": "code",
      "execution_count": 13,
      "metadata": {
        "id": "gxECpvIP68J6"
      },
      "outputs": [],
      "source": [
        "def project_shore(kb, form):\n",
        "\n",
        "  answers_v1 = form[:-7]\n",
        "  answers_v1.insert(0, 'Client_Entry')\n",
        "  answers_v1.insert(len(answers_v1), 'xxx')\n",
        "  answers_v1.insert(len(answers_v1), 'xxx')\n",
        "\n",
        "  kbank = kb\n",
        "  kbank.loc[len(kb.index)] = answers_v1\n",
        "\n",
        "  result = []\n",
        "  for feature in range(1, 18): # skip the project type\n",
        "    for row in range(18):\n",
        "      if (kbank.iloc[-1,feature] == kbank.iloc[row, feature]):\n",
        "        result.append(kbank.iloc[row, 0])\n",
        "\n",
        "  occurence_count = Counter(result)\n",
        "  best_match = occurence_count.most_common(3)[0][0]\n",
        "\n",
        "  return best_match, kb[kb['Project type']==best_match][['Recommendation-1', 'Recommendation-2']].values.tolist()[0]"
      ]
    },
    {
      "cell_type": "code",
      "execution_count": null,
      "metadata": {
        "id": "zb85oqlL7ALm"
      },
      "outputs": [],
      "source": [
        "# ### Test ###\n",
        "# shore_v1 = project_shore(kb, form)\n",
        "# shore_v1"
      ]
    },
    {
      "cell_type": "markdown",
      "metadata": {
        "id": "CCWs3B1D7C6g"
      },
      "source": [
        "# Shore Verification\n",
        "Verify if the previous two recommendations are valid or not based on additional 6 features based on client answered questions."
      ]
    },
    {
      "cell_type": "code",
      "execution_count": null,
      "metadata": {
        "id": "p031E9eE7DgY"
      },
      "outputs": [],
      "source": [
        "# def shore_verification(form, shore_v1):\n",
        "\n",
        "#   while(True):\n",
        "#     ### [1]\n",
        "#     if form[0] == 'Yes':\n",
        "#       shore_v1.insert(0, 'Onshore')\n",
        "#       break\n",
        "#     else :\n",
        "#       shore_v1\n",
        "\n",
        "#     ### [2]\n",
        "#     if form[1] == 'Dutch':\n",
        "#       shore_v1.insert(0, 'Onshore')\n",
        "#       break\n",
        "#     else :\n",
        "#       shore_v1\n",
        "\n",
        "#     ### [3]\n",
        "#     if form[2] == 'Dutch':\n",
        "#       shore_v1.insert(0, 'Onshore')\n",
        "#       break\n",
        "#     else :\n",
        "#       shore_v1\n",
        "\n",
        "#     ### [4]\n",
        "#     if form[3] == 'National':\n",
        "#       shore_v1.insert(0, 'Onshore')\n",
        "#       break\n",
        "#     elif form[3] == 'European':\n",
        "#       shore_v1.insert(0, 'Nearshore')\n",
        "#       break\n",
        "#     else :\n",
        "#       shore_v1\n",
        "\n",
        "#     ### [5]\n",
        "#     if form[4] == 'National': \n",
        "#       shore_v1.insert(0, 'Onshore')\n",
        "#       break\n",
        "#     elif form[4] == 'European':\n",
        "#       shore_v1.insert(0, 'Nearshore')\n",
        "#       break\n",
        "#     else :\n",
        "#       shore_v1\n",
        "\n",
        "#     ### [6]\n",
        "#     if form[5] == 'Legacy':\n",
        "#       shore_v1.insert(0, 'Offshore')\n",
        "#       break\n",
        "#     else :\n",
        "#       shore_v1\n",
        "#       break\n",
        "\n",
        "#   return shore_v1"
      ]
    },
    {
      "cell_type": "code",
      "execution_count": null,
      "metadata": {
        "id": "_AcWRAtm7HQK"
      },
      "outputs": [],
      "source": [
        "# ### Test ###\n",
        "# answers = [1,1,1,1,1,1,1,1,1,1,1,1,1,1,1,1,1,'Yes', 'English', 'English', 'National', 'International', 'Legacy', 'Data Science']\n",
        "# shore_v2 = shore_verification(form[:17], shore_v1[1])\n",
        "# shore_v2"
      ]
    },
    {
      "cell_type": "markdown",
      "metadata": {
        "id": "c4Esi2bX7MQz"
      },
      "source": [
        "# Shore second verification\n",
        "The last feature based on the client answer to one additional will determine the final right shore."
      ]
    },
    {
      "cell_type": "code",
      "execution_count": null,
      "metadata": {
        "id": "S3Bb2nTW7M7I"
      },
      "outputs": [],
      "source": [
        "# NL_tech_categories = ['Fullstack','UX Design','Mobile Developement','Data Engineering','Data Insights','Service & Configuration Management',\n",
        "#                       'Digital Marketing Automation','Robotic Process Automation','Business Process Automation','Cloud Apps Engineering',\n",
        "#                       'Hyper Scalers', 'Digital Workplace','API','Streaming','Solution Architecture','Test Automation','DevOps','Application Modernisation',\n",
        "#                       'Machine Learning','Low Coding Application Platform','Core Banking','CRM','Payments','ERP','Cyber Security','Banking & Capital Markets',\n",
        "#                       'Enterprise Content Management']\n",
        "\n",
        "# PL_tech_categories = ['Fullstack','UX Design','Mobile Developement','Service & Configuration Management','Digital Marketing Automation','Robotic Process Automation',\n",
        "#                       'Cloud Apps Engineering','Cloud Platform Engineering','Digital Work Place','Solution Architecture','Test Automation','Green Coding','Distribute Ledger',\n",
        "#                       'Machine Learning','Core Banking','CRM','Payments','ERP','Cyber Security','Banking & Capital Market','Domain Knowledge IB','Business Project Management',\n",
        "#                       'Project Management Office','Agile Coaches']\n",
        "                      \n",
        "# IN_tech_categories = ['Fullstack','UX Design','Mobile Developement','Data Engineering','Data Insights','Architecture & Delivery Management','Big Data & Cloud','Classic BI',\n",
        "#                       'Data Visualisation','Service & Configuration Management','Digital Marketing Automation','Robotic Process Automation','Business Process Automation',\n",
        "#                       'Cloud Apps Engineering','Hyper Scalers','Digital Workplace','API','Streaming','Solution Architecture','Cloud Architecture','Test Automation','Distribute Ledger',\n",
        "#                       'Machine Learning','Low Coding Application Platform','Core Banking','MS Dynamics','Salesforce','Payments','ERP','Cyber Security','Banking & Capital Markets',\n",
        "#                       'Project Management Office','Agile Coaches']"
      ]
    },
    {
      "cell_type": "code",
      "execution_count": null,
      "metadata": {
        "id": "oTokBQaX7RYl"
      },
      "outputs": [],
      "source": [
        "# def final_shore(shore_v2, form):\n",
        "\n",
        "#   # Delete adjacent duplicate recommendations\n",
        "#   if shore_v2[0] == shore_v2[1]:\n",
        "#     shore_v2.pop(0)\n",
        "\n",
        "#   if len(shore_v2)>2 and shore_v2[1] == shore_v2[2]:\n",
        "#     shore_v2.pop(1)\n",
        "\n",
        "#   # Recommendation 1\n",
        "#   if shore_v2[0] == 'Onshore' and form[6] in NL_tech_categories:\n",
        "#       shore_v2.insert(0, 'Onshore')\n",
        "\n",
        "#   elif shore_v2[0] == 'Nearshore' and form[6] in PL_tech_categories:\n",
        "#       shore_v2.insert(0, 'Nearshore')\n",
        "\n",
        "#   elif shore_v2[0] == 'Offshore' and form[6] in IN_tech_categories:\n",
        "#       shore_v2.insert(0, 'Offshore')\n",
        "\n",
        "#   # Recommendation 2\n",
        "#   elif shore_v2[1] == 'Onshore' and form[6] in NL_tech_categories:\n",
        "#       shore_v2.insert(0, 'Onshore')\n",
        "\n",
        "#   elif shore_v2[1] == 'Nearshore' and form[6] in PL_tech_categories:\n",
        "#       shore_v2.insert(0, 'Nearshore')\n",
        "\n",
        "#   elif shore_v2[1] == 'Offshore' and form[6] in IN_tech_categories:\n",
        "#       shore_v2.insert(0, 'Offshore')\n",
        "  \n",
        "#   # No clear shore\n",
        "#   else:\n",
        "#       shore_v2\n",
        "\n",
        "#   return shore_v2[0] + ' Heavy with ' + shore_v2[1] + ' Presence'"
      ]
    },
    {
      "cell_type": "code",
      "execution_count": null,
      "metadata": {
        "id": "i8Y8vT8I7XHe"
      },
      "outputs": [],
      "source": [
        "# ### Test ###\n",
        "# form  = [1, 1, 1, 1, 1, 1, 1, 1, 1, 1, 1, 1, 1, 1, 1, 1, 1, 'No', 'English', 'English', 'National', 'International', 'Legacy', 'Distribute Ledgr']\n",
        "# shore = ['Onshore', 'Offshore', 'Nearshore']\n",
        "# final_shore(shore_v2, form[17:])"
      ]
    },
    {
      "cell_type": "markdown",
      "metadata": {
        "id": "BWK_taY8l2nQ"
      },
      "source": [
        "# Main"
      ]
    },
    {
      "cell_type": "code",
      "execution_count": null,
      "metadata": {
        "id": "COwj--K5kwsu"
      },
      "outputs": [],
      "source": [
        "# if __name__ == \"__main__\":\n",
        "\n",
        "#   ### Create the Knowledge Bank ###\n",
        "#   kb       = create_knowledge_bank()\n",
        "\n",
        "#   ### Client fill the form ###\n",
        "#   form     = client_form()\n",
        "\n",
        "#   ### Initial shore recommendations ###\n",
        "#   shore_v1 = project_shore(kb, form)\n",
        "\n",
        "#   ### Second shore recommendations ###\n",
        "#   shore_v2 = shore_verification(form[:17], shore_v1[1])\n",
        "\n",
        "#   ### The right shore ###\n",
        "#   final_shore(shore_v2, form[17:])"
      ]
    },
    {
      "cell_type": "code",
      "execution_count": null,
      "metadata": {
        "id": "h5pdk5yStGSh",
        "outputId": "4c30b251-1dc4-4377-a9aa-5a91b9f88554",
        "colab": {
          "base_uri": "https://localhost:8080/",
          "height": 35
        }
      },
      "outputs": [
        {
          "output_type": "execute_result",
          "data": {
            "text/plain": [
              "'Offshore Heavy with Nearshore Presence'"
            ],
            "application/vnd.google.colaboratory.intrinsic+json": {
              "type": "string"
            }
          },
          "metadata": {},
          "execution_count": 63
        }
      ],
      "source": [
        "# ### The right shore test ###\n",
        "# form  = [1, 1, 1, 1, 1, 1, 1, 1, 1, 1, 1, 1, 1, 1, 1, 1, 1, 'No', 'English', 'English', 'National', 'International', 'Legacy', 'Hyper Scalers']\n",
        "# kb = create_knowledge_bank()\n",
        "# ### Initial shore recommendations ###\n",
        "# shore_v1 = project_shore(kb, form)\n",
        "\n",
        "# ### Second shore recommendations ###\n",
        "# shore_v2 = shore_verification(form[:17], shore_v1[1])\n",
        "\n",
        "# final_shore(shore_v2, form[17:])"
      ]
    },
    {
      "cell_type": "code",
      "execution_count": 14,
      "metadata": {
        "id": "JzTA3bvG6cAV"
      },
      "outputs": [],
      "source": [
        "app = Flask(__name__)\n",
        "run_with_ngrok(app)\n",
        "\n",
        "@app.route('/', methods=['POST'])\n",
        "def coffee_machine():\n",
        "  kb = create_knowledge_bank()\n",
        "  content = request.get_json()\n",
        "  form = client_form(content)\n",
        "\n",
        "  # ### Initial shore recommendations ###\n",
        "  # shore_v1 = project_shore(kb, form)\n",
        "\n",
        "  # ### Second shore recommendations ###\n",
        "  # shore_v2 = shore_verification(form[:17], shore_v1[1])\n",
        "\n",
        "  ### The right shore ###\n",
        "  # return {'result': final_shore(shore_v2, form[17:])}\n",
        "  return {'result': project_shore(kb, form)}"
      ]
    },
    {
      "cell_type": "code",
      "execution_count": null,
      "metadata": {
        "colab": {
          "base_uri": "https://localhost:8080/"
        },
        "id": "eooTWEze-F2G",
        "outputId": "ad40cf8f-9831-4004-a5e1-efb2ea5cb3b2"
      },
      "outputs": [
        {
          "output_type": "stream",
          "name": "stdout",
          "text": [
            " * Serving Flask app \"__main__\" (lazy loading)\n",
            " * Environment: production\n",
            "\u001b[31m   WARNING: This is a development server. Do not use it in a production deployment.\u001b[0m\n",
            "\u001b[2m   Use a production WSGI server instead.\u001b[0m\n",
            " * Debug mode: off\n"
          ]
        },
        {
          "output_type": "stream",
          "name": "stderr",
          "text": [
            "INFO:werkzeug: * Running on http://127.0.0.1:5000/ (Press CTRL+C to quit)\n"
          ]
        },
        {
          "output_type": "stream",
          "name": "stdout",
          "text": [
            " * Running on http://4395-34-135-222-221.ngrok.io\n",
            " * Traffic stats available on http://127.0.0.1:4040\n"
          ]
        },
        {
          "output_type": "stream",
          "name": "stderr",
          "text": [
            "INFO:werkzeug:127.0.0.1 - - [27/Oct/2022 12:55:45] \"\u001b[37mPOST / HTTP/1.1\u001b[0m\" 200 -\n"
          ]
        }
      ],
      "source": [
        "app.run()"
      ]
    },
    {
      "cell_type": "code",
      "source": [],
      "metadata": {
        "id": "Zg9gkw4Cd5m9"
      },
      "execution_count": null,
      "outputs": []
    }
  ],
  "metadata": {
    "colab": {
      "collapsed_sections": [],
      "provenance": [],
      "include_colab_link": true
    },
    "kernelspec": {
      "display_name": "Python 3",
      "name": "python3"
    },
    "language_info": {
      "name": "python"
    }
  },
  "nbformat": 4,
  "nbformat_minor": 0
}